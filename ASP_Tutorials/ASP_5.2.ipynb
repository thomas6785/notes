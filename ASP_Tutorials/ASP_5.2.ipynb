{
 "cells": [
  {
   "cell_type": "code",
   "execution_count": 66,
   "metadata": {},
   "outputs": [],
   "source": [
    "import numpy as np\n",
    "from numpy import random\n",
    "import matplotlib.pyplot as plt\n",
    "from numpy.fft import fft"
   ]
  },
  {
   "cell_type": "code",
   "execution_count": 67,
   "metadata": {},
   "outputs": [],
   "source": [
    "nSamples = 2**8\n",
    "N = nSamples\n",
    "x = random.randn(nSamples)"
   ]
  },
  {
   "cell_type": "code",
   "execution_count": 71,
   "metadata": {},
   "outputs": [
    {
     "name": "stdout",
     "output_type": "stream",
     "text": [
      "r(0)=0.9450638800811739\n",
      "r(1)=-0.06882464565957849\n",
      "r(2)=-0.02302416543334907\n",
      "r(3)=-0.011758669795177716\n",
      "r(4)=-0.04027533893536284\n",
      "r(5)=0.08092386058249734\n",
      "r(6)=-0.024684217091241648\n",
      "r(7)=0.07799561266553123\n",
      "r(8)=-0.12844961688326362\n",
      "r(9)=0.015495571150299592\n",
      "r(16)=-0.046591919150199466\n",
      "r(32)=-0.025019306615912916\n",
      "r(64)=0.11611633644669561\n",
      "r(128)=0.08025168460121915\n",
      "r(255)=-0.9171931563488132\n"
     ]
    }
   ],
   "source": [
    "def r(k):\n",
    "    r_k = np.sum(x[0:N-k]*x[k:N]) / (N-k)\n",
    "    return r_k\n",
    "\n",
    "def r2(k):\n",
    "    r_k = np.sum(x[0:N-k]*x[k:N]) / N\n",
    "    return r_k\n",
    "\n",
    "for k in list(range(10))+[16,32,64,128,nSamples-3,nSamples-2,nSamples-1]:\n",
    "    print(f\"r({k})={r(k)}\")"
   ]
  },
  {
   "cell_type": "markdown",
   "metadata": {},
   "source": [
    "Notice that the last value of r(k) is very large despite distant values generally being entirely unrelated. This is because there are no samples "
   ]
  }
 ],
 "metadata": {
  "kernelspec": {
   "display_name": "Python 3",
   "language": "python",
   "name": "python3"
  },
  "language_info": {
   "codemirror_mode": {
    "name": "ipython",
    "version": 3
   },
   "file_extension": ".py",
   "mimetype": "text/x-python",
   "name": "python",
   "nbconvert_exporter": "python",
   "pygments_lexer": "ipython3",
   "version": "3.10.7"
  }
 },
 "nbformat": 4,
 "nbformat_minor": 2
}
